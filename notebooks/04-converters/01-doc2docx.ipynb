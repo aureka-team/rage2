{
 "cells": [
  {
   "cell_type": "code",
   "execution_count": null,
   "id": "c5876a29",
   "metadata": {},
   "outputs": [],
   "source": [
    "from rage.converters import doc2docx"
   ]
  },
  {
   "cell_type": "code",
   "execution_count": null,
   "id": "3d73b27a",
   "metadata": {},
   "outputs": [],
   "source": [
    "doc_path = \"/resources/doc/Zeitschiene.-Wahlen-und-Wahlkampf.doc\"\n",
    "out_file_path = doc2docx(\n",
    "    doc_path=doc_path,\n",
    "    # outdir=\"/tmp\",\n",
    ")\n",
    "\n",
    "out_file_path"
   ]
  },
  {
   "cell_type": "code",
   "execution_count": null,
   "id": "5f8f7d02",
   "metadata": {},
   "outputs": [],
   "source": []
  }
 ],
 "metadata": {
  "kernelspec": {
   "display_name": "Python 3",
   "language": "python",
   "name": "python3"
  },
  "language_info": {
   "codemirror_mode": {
    "name": "ipython",
    "version": 3
   },
   "file_extension": ".py",
   "mimetype": "text/x-python",
   "name": "python",
   "nbconvert_exporter": "python",
   "pygments_lexer": "ipython3",
   "version": "3.13.3"
  }
 },
 "nbformat": 4,
 "nbformat_minor": 5
}
