{
 "cells": [
  {
   "cell_type": "code",
   "execution_count": null,
   "id": "b1a890f7",
   "metadata": {},
   "outputs": [],
   "source": [
    "import numpy as np\n",
    "\n",
    "from rage.embeddings import IonosEmbeddings"
   ]
  },
  {
   "cell_type": "code",
   "execution_count": null,
   "id": "66abf2f2",
   "metadata": {},
   "outputs": [],
   "source": [
    "embeddings = IonosEmbeddings()"
   ]
  },
  {
   "cell_type": "code",
   "execution_count": null,
   "id": "f1a31b3b",
   "metadata": {},
   "outputs": [],
   "source": [
    "text = \"This is an example\"\n",
    "embedding = await embeddings.aembed_query(text=text)\n",
    "np_embedding = np.array(embedding)\n",
    "\n",
    "print(np_embedding.shape)\n",
    "np_embedding"
   ]
  },
  {
   "cell_type": "code",
   "execution_count": null,
   "id": "16dad727",
   "metadata": {},
   "outputs": [],
   "source": [
    "texts = [f\"This the example {idx + 1}\" for idx in range(10)]\n",
    "embeddings = await embeddings.aembed_documents(texts=texts)\n",
    "np_embeddings = np.array(embeddings)\n",
    "\n",
    "print(np_embeddings.shape)\n",
    "np_embeddings"
   ]
  },
  {
   "cell_type": "code",
   "execution_count": null,
   "id": "3232ce41",
   "metadata": {},
   "outputs": [],
   "source": []
  }
 ],
 "metadata": {
  "kernelspec": {
   "display_name": "Python 3",
   "language": "python",
   "name": "python3"
  },
  "language_info": {
   "codemirror_mode": {
    "name": "ipython",
    "version": 3
   },
   "file_extension": ".py",
   "mimetype": "text/x-python",
   "name": "python",
   "nbconvert_exporter": "python",
   "pygments_lexer": "ipython3",
   "version": "3.12.3"
  }
 },
 "nbformat": 4,
 "nbformat_minor": 5
}
