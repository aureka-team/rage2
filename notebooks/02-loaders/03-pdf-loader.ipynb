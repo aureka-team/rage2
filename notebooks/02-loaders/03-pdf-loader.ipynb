{
    "cells": [
        {
            "cell_type": "code",
            "execution_count": null,
            "id": "c4db45ea",
            "metadata": {},
            "outputs": [],
            "source": [
                "from rich.pretty import pprint\n",
                "\n",
                "from rage.loaders import PDFLoaeder\n",
                "from rage.splitters import WordSplitter, DocumentSplitter"
            ]
        },
        {
            "cell_type": "code",
            "execution_count": null,
            "id": "9cb9d28c",
            "metadata": {},
            "outputs": [],
            "source": [
                "loader = PDFLoaeder()\n",
                "documents = await loader.load(source_path=\"/resources/pdf/zaratustra.pdf\")"
            ]
        },
        {
            "cell_type": "code",
            "execution_count": null,
            "id": "b67210c6",
            "metadata": {},
            "outputs": [],
            "source": [
                "splitter = WordSplitter(chunk_size=256)\n",
                "text_chunks = splitter.split_documents(documents=documents)\n",
                "pprint(text_chunks[100:105])"
            ]
        },
        {
            "cell_type": "code",
            "execution_count": null,
            "id": "0b4e5b30",
            "metadata": {},
            "outputs": [],
            "source": [
                "splitter = DocumentSplitter()\n",
                "text_chunks = splitter.split_documents(documents=documents)\n",
                "pprint(text_chunks[:5])"
            ]
        },
        {
            "cell_type": "code",
            "execution_count": null,
            "id": "c11c9cfc",
            "metadata": {},
            "outputs": [],
            "source": []
        }
    ],
    "metadata": {
        "kernelspec": {
            "display_name": "Python 3",
            "language": "python",
            "name": "python3"
        },
        "language_info": {
            "codemirror_mode": {
                "name": "ipython",
                "version": 3
            },
            "file_extension": ".py",
            "mimetype": "text/x-python",
            "name": "python",
            "nbconvert_exporter": "python",
            "pygments_lexer": "ipython3",
            "version": "3.12.3"
        }
    },
    "nbformat": 4,
    "nbformat_minor": 5
}
