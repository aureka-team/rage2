{
    "cells": [
        {
            "cell_type": "code",
            "execution_count": null,
            "id": "c4db45ea",
            "metadata": {},
            "outputs": [],
            "source": [
                "from rich.pretty import pprint\n",
                "\n",
                "from rich.console import Console\n",
                "from rich.markdown import Markdown\n",
                "# from rage.loaders import PDFLoaeder\n",
                "# from rage.splitters import TokenSplitter\n",
                "\n",
                "from rage.loaders import PDFMarkdownLoader\n",
                "from rage.splitters import MarkdownSplitter"
            ]
        },
        {
            "cell_type": "code",
            "execution_count": null,
            "id": "a7a21594",
            "metadata": {},
            "outputs": [],
            "source": [
                "console = Console()"
            ]
        },
        {
            "cell_type": "code",
            "execution_count": null,
            "id": "9cb9d28c",
            "metadata": {},
            "outputs": [],
            "source": [
                "loader = PDFMarkdownLoader()\n",
                "documents = await loader.load(source_path=\"/resources/pdf/zaratustra.pdf\")\n",
                "pprint(documents[0])"
            ]
        },
        {
            "cell_type": "code",
            "execution_count": null,
            "id": "97a5860e",
            "metadata": {},
            "outputs": [],
            "source": [
                "# console.print(Markdown(documents[0].text))"
            ]
        },
        {
            "cell_type": "code",
            "execution_count": null,
            "id": "b67210c6",
            "metadata": {},
            "outputs": [],
            "source": [
                "splitter = MarkdownSplitter()\n",
                "text_chunks = splitter.split_documents(documents=documents)\n",
                "\n",
                "print(f\"text_chunks => {len(text_chunks)}\")\n",
                "pprint(text_chunks[50])"
            ]
        },
        {
            "cell_type": "code",
            "execution_count": null,
            "id": "2187f800",
            "metadata": {},
            "outputs": [],
            "source": [
                "idx = 7\n",
                "text_chunk = text_chunks[idx]\n",
                "console.print(Markdown(text_chunk.text))"
            ]
        },
        {
            "cell_type": "code",
            "execution_count": null,
            "id": "c11c9cfc",
            "metadata": {},
            "outputs": [],
            "source": []
        }
    ],
    "metadata": {
        "kernelspec": {
            "display_name": "Python 3",
            "language": "python",
            "name": "python3"
        },
        "language_info": {
            "codemirror_mode": {
                "name": "ipython",
                "version": 3
            },
            "file_extension": ".py",
            "mimetype": "text/x-python",
            "name": "python",
            "nbconvert_exporter": "python",
            "pygments_lexer": "ipython3",
            "version": "3.13.3"
        }
    },
    "nbformat": 4,
    "nbformat_minor": 5
}
