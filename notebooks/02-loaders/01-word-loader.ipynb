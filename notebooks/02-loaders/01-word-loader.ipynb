{
 "cells": [
  {
   "cell_type": "code",
   "execution_count": null,
   "id": "c4db45ea",
   "metadata": {},
   "outputs": [],
   "source": [
    "from typing import Generator\n",
    "\n",
    "from rich.pretty import pprint\n",
    "from rage.loaders import DocxLoaeder"
   ]
  },
  {
   "cell_type": "code",
   "execution_count": null,
   "id": "9cb9d28c",
   "metadata": {},
   "outputs": [],
   "source": [
    "docx_loader = DocxLoaeder()\n",
    "documents = await docx_loader.load(source_path=\"/resources/docx/metrogas.docx\")"
   ]
  },
  {
   "cell_type": "code",
   "execution_count": null,
   "id": "c4e42ebb",
   "metadata": {},
   "outputs": [],
   "source": []
  },
  {
   "cell_type": "code",
   "execution_count": null,
   "id": "79797d90",
   "metadata": {},
   "outputs": [],
   "source": [
    "import json"
   ]
  },
  {
   "cell_type": "code",
   "execution_count": null,
   "id": "8e42495a",
   "metadata": {},
   "outputs": [],
   "source": [
    "document = documents[4]\n",
    "json_table = document.json_table\n",
    "pprint(json.loads(json_table))"
   ]
  },
  {
   "cell_type": "code",
   "execution_count": null,
   "id": "230dc9ef",
   "metadata": {},
   "outputs": [],
   "source": [
    "document.text"
   ]
  },
  {
   "cell_type": "code",
   "execution_count": null,
   "id": "7e63836c",
   "metadata": {},
   "outputs": [],
   "source": [
    "for doc in documents:\n",
    "    if doc.json_table is not None:\n",
    "        break"
   ]
  },
  {
   "cell_type": "code",
   "execution_count": null,
   "id": "e8c46670",
   "metadata": {},
   "outputs": [],
   "source": [
    "doc"
   ]
  },
  {
   "cell_type": "code",
   "execution_count": null,
   "id": "eaa9dad5",
   "metadata": {},
   "outputs": [],
   "source": [
    "tables = get_tables(documents=documents)"
   ]
  },
  {
   "cell_type": "code",
   "execution_count": null,
   "id": "eae02723",
   "metadata": {},
   "outputs": [],
   "source": [
    "table = next(tables)\n",
    "pprint(table)"
   ]
  },
  {
   "cell_type": "code",
   "execution_count": null,
   "id": "963e3045",
   "metadata": {},
   "outputs": [],
   "source": [
    "table[\"metadata\"][\"text_as_html\"]"
   ]
  },
  {
   "cell_type": "code",
   "execution_count": null,
   "id": "9c018217",
   "metadata": {},
   "outputs": [],
   "source": [
    "from markitdown import MarkItDown\n",
    "from bs4 import BeautifulSoup\n",
    "from tempfile import NamedTemporaryFile"
   ]
  },
  {
   "cell_type": "code",
   "execution_count": null,
   "id": "5376b8df",
   "metadata": {},
   "outputs": [],
   "source": [
    "soup = BeautifulSoup(table[\"metadata\"][\"text_as_html\"], \"html.parser\")\n",
    "pretty_html = soup.prettify()"
   ]
  },
  {
   "cell_type": "code",
   "execution_count": null,
   "id": "1b56d4bd",
   "metadata": {},
   "outputs": [],
   "source": []
  },
  {
   "cell_type": "code",
   "execution_count": null,
   "id": "6cbe9d93",
   "metadata": {},
   "outputs": [],
   "source": [
    "with open(\"./lala.html\", \"w\") as file:\n",
    "    file.write(pretty_html)"
   ]
  },
  {
   "cell_type": "code",
   "execution_count": null,
   "id": "0b4522d8",
   "metadata": {},
   "outputs": [],
   "source": [
    "lala = md.convert(source=\"./lala.html\")\n",
    "lala.text_content"
   ]
  },
  {
   "cell_type": "code",
   "execution_count": null,
   "id": "4d0515ef",
   "metadata": {},
   "outputs": [],
   "source": [
    "md = MarkItDown()\n",
    "with NamedTemporaryFile(mode=\"w\", suffix=\".html\", delete=False) as tmp_file:\n",
    "    tmp_file.write(pretty_html)\n",
    "    tmp_file.flush()\n",
    "    result = md.convert(source=tmp_file.name)"
   ]
  },
  {
   "cell_type": "code",
   "execution_count": null,
   "id": "c055276f",
   "metadata": {},
   "outputs": [],
   "source": [
    "print(result.text_content)"
   ]
  },
  {
   "cell_type": "code",
   "execution_count": null,
   "id": "b34a17b7",
   "metadata": {},
   "outputs": [],
   "source": [
    "import pandas as pd"
   ]
  },
  {
   "cell_type": "code",
   "execution_count": null,
   "id": "75bf047e",
   "metadata": {},
   "outputs": [],
   "source": [
    "df = pd.read_html(\"./lala.html\")\n",
    "df"
   ]
  }
 ],
 "metadata": {
  "kernelspec": {
   "display_name": "Python 3",
   "language": "python",
   "name": "python3"
  },
  "language_info": {
   "codemirror_mode": {
    "name": "ipython",
    "version": 3
   },
   "file_extension": ".py",
   "mimetype": "text/x-python",
   "name": "python",
   "nbconvert_exporter": "python",
   "pygments_lexer": "ipython3",
   "version": "3.12.3"
  }
 },
 "nbformat": 4,
 "nbformat_minor": 5
}
