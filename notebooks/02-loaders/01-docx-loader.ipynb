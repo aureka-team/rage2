{
 "cells": [
  {
   "cell_type": "code",
   "execution_count": null,
   "id": "c4db45ea",
   "metadata": {},
   "outputs": [],
   "source": [
    "from rich.pretty import pprint\n",
    "from rage.loaders import DocxLoader"
   ]
  },
  {
   "cell_type": "code",
   "execution_count": null,
   "id": "9cb9d28c",
   "metadata": {},
   "outputs": [],
   "source": [
    "docx_loader = DocxLoader()\n",
    "documents = await docx_loader.load(source_path=\"/resources/docx/metrogas.docx\")"
   ]
  },
  {
   "cell_type": "code",
   "execution_count": null,
   "id": "0a654167",
   "metadata": {},
   "outputs": [],
   "source": [
    "pprint(documents[1])"
   ]
  },
  {
   "cell_type": "code",
   "execution_count": null,
   "id": "b67210c6",
   "metadata": {},
   "outputs": [],
   "source": []
  }
 ],
 "metadata": {
  "kernelspec": {
   "display_name": "Python 3",
   "language": "python",
   "name": "python3"
  },
  "language_info": {
   "codemirror_mode": {
    "name": "ipython",
    "version": 3
   },
   "file_extension": ".py",
   "mimetype": "text/x-python",
   "name": "python",
   "nbconvert_exporter": "python",
   "pygments_lexer": "ipython3",
   "version": "3.12.3"
  }
 },
 "nbformat": 4,
 "nbformat_minor": 5
}
