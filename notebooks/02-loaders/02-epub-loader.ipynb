{
    "cells": [
        {
            "cell_type": "code",
            "execution_count": null,
            "id": "c4db45ea",
            "metadata": {},
            "outputs": [],
            "source": [
                "from rich.pretty import pprint\n",
                "\n",
                "from rich.console import Console\n",
                "from rich.markdown import Markdown\n",
                "\n",
                "# from rage.loaders import EpubLoader\n",
                "from rage.loaders import MarkdownLoader\n",
                "from rage.splitters import TitleSplitter, WordSplitter"
            ]
        },
        {
            "cell_type": "code",
            "execution_count": null,
            "id": "83c1c214",
            "metadata": {},
            "outputs": [],
            "source": [
                "console = Console()"
            ]
        },
        {
            "cell_type": "code",
            "execution_count": null,
            "id": "9cb9d28c",
            "metadata": {},
            "outputs": [],
            "source": [
                "# loader = EpubLoader()\n",
                "loader = MarkdownLoader()\n",
                "\n",
                "documents = await loader.load(\n",
                "    source_path=\"/resources/epub/el-arte-del-pensamiento-creativo.epub\"\n",
                ")\n",
                "\n",
                "pprint(documents[:5])"
            ]
        },
        {
            "cell_type": "code",
            "execution_count": null,
            "id": "3a842eb9",
            "metadata": {},
            "outputs": [],
            "source": [
                "console.print(Markdown(documents[0].text))"
            ]
        },
        {
            "cell_type": "code",
            "execution_count": null,
            "id": "b67210c6",
            "metadata": {},
            "outputs": [],
            "source": [
                "title_splitter = TitleSplitter()\n",
                "text_chunks = title_splitter.split_documents(documents=documents)\n",
                "pprint(text_chunks[:5])"
            ]
        },
        {
            "cell_type": "code",
            "execution_count": null,
            "id": "0b4e5b30",
            "metadata": {},
            "outputs": [],
            "source": [
                "word_splitter = WordSplitter()\n",
                "text_chunks = word_splitter.split_documents(documents=text_chunks)\n",
                "pprint(text_chunks[:5])"
            ]
        },
        {
            "cell_type": "code",
            "execution_count": null,
            "id": "3f70afa5",
            "metadata": {},
            "outputs": [],
            "source": []
        }
    ],
    "metadata": {
        "kernelspec": {
            "display_name": "Python 3",
            "language": "python",
            "name": "python3"
        },
        "language_info": {
            "codemirror_mode": {
                "name": "ipython",
                "version": 3
            },
            "file_extension": ".py",
            "mimetype": "text/x-python",
            "name": "python",
            "nbconvert_exporter": "python",
            "pygments_lexer": "ipython3",
            "version": "3.12.3"
        }
    },
    "nbformat": 4,
    "nbformat_minor": 5
}
