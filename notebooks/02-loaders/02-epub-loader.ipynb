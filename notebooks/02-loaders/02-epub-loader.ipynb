{
    "cells": [
        {
            "cell_type": "code",
            "execution_count": null,
            "id": "c4db45ea",
            "metadata": {},
            "outputs": [],
            "source": [
                "from rich.pretty import pprint\n",
                "\n",
                "from rage.loaders import EpubLoader\n",
                "from rage.splitters import TitleSplitter"
            ]
        },
        {
            "cell_type": "code",
            "execution_count": null,
            "id": "9cb9d28c",
            "metadata": {},
            "outputs": [],
            "source": [
                "loader = EpubLoader()\n",
                "documents = await loader.load(\n",
                "    source_path=\"/resources/epub/el-arte-del-pensamiento-creativo.epub\"\n",
                ")"
            ]
        },
        {
            "cell_type": "code",
            "execution_count": null,
            "id": "0a654167",
            "metadata": {},
            "outputs": [],
            "source": [
                "pprint(documents[0])"
            ]
        },
        {
            "cell_type": "code",
            "execution_count": null,
            "id": "b67210c6",
            "metadata": {},
            "outputs": [],
            "source": [
                "splitter = TitleSplitter()\n",
                "text_chunks = splitter.split_documents(documents=documents)\n",
                "pprint(text_chunks[:20])"
            ]
        },
        {
            "cell_type": "code",
            "execution_count": null,
            "id": "23595cc8",
            "metadata": {},
            "outputs": [],
            "source": []
        }
    ],
    "metadata": {
        "kernelspec": {
            "display_name": "Python 3",
            "language": "python",
            "name": "python3"
        },
        "language_info": {
            "codemirror_mode": {
                "name": "ipython",
                "version": 3
            },
            "file_extension": ".py",
            "mimetype": "text/x-python",
            "name": "python",
            "nbconvert_exporter": "python",
            "pygments_lexer": "ipython3",
            "version": "3.12.3"
        }
    },
    "nbformat": 4,
    "nbformat_minor": 5
}
