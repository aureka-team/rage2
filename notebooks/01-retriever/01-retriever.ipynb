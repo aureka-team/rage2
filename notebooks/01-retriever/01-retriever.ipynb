{
 "cells": [
  {
   "cell_type": "code",
   "execution_count": null,
   "id": "f30967ca",
   "metadata": {},
   "outputs": [],
   "source": [
    "from rich.pretty import pprint\n",
    "\n",
    "from rage.loaders import PDFLoaeder\n",
    "from rage.splitters import WordTextSplitter\n",
    "from rage.retriever import Retriever"
   ]
  },
  {
   "cell_type": "code",
   "execution_count": null,
   "id": "ce08f5ef",
   "metadata": {},
   "outputs": [],
   "source": [
    "loader = PDFLoaeder()\n",
    "splitter = WordTextSplitter()\n",
    "retriever = Retriever()"
   ]
  },
  {
   "cell_type": "code",
   "execution_count": null,
   "id": "a4c24895",
   "metadata": {},
   "outputs": [],
   "source": [
    "file_path = \"/resources/pdf/zaratustra.pdf\"\n",
    "documents = await loader.load(source_path=file_path)\n",
    "pprint(documents[1])"
   ]
  },
  {
   "cell_type": "code",
   "execution_count": null,
   "id": "9e1b4326",
   "metadata": {},
   "outputs": [],
   "source": [
    "text_chunks = splitter.split_documents(documents=documents)\n",
    "\n",
    "print(f\"text_chunks => {len(text_chunks)}\")\n",
    "pprint(text_chunks[:5])\n",
    "pprint(text_chunks[-1])"
   ]
  },
  {
   "cell_type": "code",
   "execution_count": null,
   "id": "20e6cc7b",
   "metadata": {},
   "outputs": [],
   "source": [
    "print(text_chunks[-1].text)"
   ]
  },
  {
   "cell_type": "code",
   "execution_count": null,
   "id": "05d32e10",
   "metadata": {},
   "outputs": [],
   "source": [
    "collection_name = \"zaratustra\"\n",
    "retriever.create_collection(collection_name=collection_name)\n",
    "retriever.insert_text_chunks(\n",
    "    collection_name=collection_name,\n",
    "    text_chunks=text_chunks,\n",
    ")"
   ]
  },
  {
   "cell_type": "code",
   "execution_count": null,
   "id": "1b3b0505",
   "metadata": {},
   "outputs": [],
   "source": [
    "query = \"Que quiere el gran Dragón?\"\n",
    "retriever_items = await retriever.hybrid_search(\n",
    "    collection_name=collection_name,\n",
    "    query=query,\n",
    ")\n",
    "\n",
    "pprint(retriever_items)"
   ]
  },
  {
   "cell_type": "code",
   "execution_count": null,
   "id": "7862d1b2",
   "metadata": {},
   "outputs": [],
   "source": [
    "retriever_items = await retriever.dense_search(\n",
    "    collection_name=collection_name,\n",
    "    query=query,\n",
    ")\n",
    "\n",
    "pprint(retriever_items)"
   ]
  },
  {
   "cell_type": "code",
   "execution_count": null,
   "id": "7058178f",
   "metadata": {},
   "outputs": [],
   "source": [
    "retriever_items = await retriever.retrieve(\n",
    "    collection_name=collection_name,\n",
    "    query=query,\n",
    ")\n",
    "\n",
    "pprint(retriever_items)"
   ]
  },
  {
   "cell_type": "code",
   "execution_count": null,
   "id": "aaa6e9b1",
   "metadata": {},
   "outputs": [],
   "source": []
  }
 ],
 "metadata": {
  "kernelspec": {
   "display_name": "Python 3",
   "language": "python",
   "name": "python3"
  },
  "language_info": {
   "codemirror_mode": {
    "name": "ipython",
    "version": 3
   },
   "file_extension": ".py",
   "mimetype": "text/x-python",
   "name": "python",
   "nbconvert_exporter": "python",
   "pygments_lexer": "ipython3",
   "version": "3.12.3"
  }
 },
 "nbformat": 4,
 "nbformat_minor": 5
}
