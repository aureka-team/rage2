{
    "cells": [
        {
            "cell_type": "code",
            "execution_count": null,
            "id": "f30967ca",
            "metadata": {},
            "outputs": [],
            "source": [
                "from rich.pretty import pprint\n",
                "from rich.console import Console\n",
                "from rich.markdown import Markdown\n",
                "\n",
                "from qdrant_client import models\n",
                "\n",
                "# from rage.embeddings import IonosEmbeddings\n",
                "from langchain_openai import OpenAIEmbeddings\n",
                "\n",
                "from rage.loaders import PDFMarkdownLoaeder\n",
                "from rage.splitters import MarkdownSplitter\n",
                "from rage.retriever import Retriever"
            ]
        },
        {
            "cell_type": "code",
            "execution_count": null,
            "id": "90ee62b5",
            "metadata": {},
            "outputs": [],
            "source": [
                "console = Console()"
            ]
        },
        {
            "cell_type": "code",
            "execution_count": null,
            "id": "ce08f5ef",
            "metadata": {},
            "outputs": [],
            "source": [
                "loader = PDFMarkdownLoaeder()\n",
                "splitter = MarkdownSplitter()"
            ]
        },
        {
            "cell_type": "code",
            "execution_count": null,
            "id": "a4c24895",
            "metadata": {},
            "outputs": [],
            "source": [
                "file_path = \"/resources/pdf/zaratustra.pdf\"\n",
                "documents = await loader.load(source_path=file_path)\n",
                "\n",
                "print(f\"documents => {len(documents)}\")\n",
                "pprint(documents[0])"
            ]
        },
        {
            "cell_type": "code",
            "execution_count": null,
            "id": "9e1b4326",
            "metadata": {},
            "outputs": [],
            "source": [
                "text_chunks = splitter.split_documents(documents=documents)\n",
                "\n",
                "print(f\"text_chunks => {len(text_chunks)}\")\n",
                "pprint(text_chunks[:3])"
            ]
        },
        {
            "cell_type": "code",
            "execution_count": null,
            "id": "0a874e62",
            "metadata": {},
            "outputs": [],
            "source": [
                "console.print(Markdown(text_chunks[57].text))"
            ]
        },
        {
            "cell_type": "code",
            "execution_count": null,
            "id": "ae5181c9",
            "metadata": {},
            "outputs": [],
            "source": [
                "dense_embeddings = OpenAIEmbeddings(\n",
                "    model=\"text-embedding-3-large\",\n",
                "    dimensions=256,\n",
                ")\n",
                "\n",
                "# dense_embeddings = IonosEmbeddings()\n",
                "retriever = Retriever(dense_embeddings=dense_embeddings)"
            ]
        },
        {
            "cell_type": "code",
            "execution_count": null,
            "id": "05d32e10",
            "metadata": {},
            "outputs": [],
            "source": [
                "collection_name = \"zaratustra\"\n",
                "# collection_name = \"zaratustra-ie\"\n",
                "\n",
                "retriever.create_collection(collection_name=collection_name)\n",
                "retriever.insert_text_chunks(\n",
                "    collection_name=collection_name,\n",
                "    text_chunks=text_chunks,\n",
                ")"
            ]
        },
        {
            "cell_type": "code",
            "execution_count": null,
            "id": "1a137035",
            "metadata": {},
            "outputs": [],
            "source": [
                "query = \"Que quiere el gran Dragón?\"\n",
                "retriever_items = await retriever.dense_search(\n",
                "    collection_name=collection_name,\n",
                "    query=query,\n",
                "    k=5,\n",
                "    score_threshold=0.5,\n",
                ")\n",
                "\n",
                "pprint(retriever_items)"
            ]
        },
        {
            "cell_type": "code",
            "execution_count": null,
            "id": "1b3b0505",
            "metadata": {},
            "outputs": [],
            "source": [
                "retriever_items = await retriever.hybrid_search(\n",
                "    collection_name=collection_name,\n",
                "    query=query,\n",
                "    k=5,\n",
                "    # score_threshold=0.5,\n",
                ")\n",
                "\n",
                "pprint(retriever_items)"
            ]
        },
        {
            "cell_type": "code",
            "execution_count": null,
            "id": "fa0b54de",
            "metadata": {},
            "outputs": [],
            "source": [
                "search_filter = models.Filter(\n",
                "    must=[\n",
                "        models.FieldCondition(\n",
                "            key=\"metadata.chunk_id\",\n",
                "            match=models.MatchValue(value=\"7c1c61cb243b57b1fa5609ab2b1afecd\"),\n",
                "        ),\n",
                "    ],\n",
                ")\n",
                "\n",
                "retriever_items = retriever.scroll(\n",
                "    collection_name=collection_name,\n",
                "    limit=10,\n",
                "    scroll_filter=search_filter,\n",
                ")\n",
                "\n",
                "pprint(retriever_items)"
            ]
        },
        {
            "cell_type": "code",
            "execution_count": null,
            "id": "7058178f",
            "metadata": {},
            "outputs": [],
            "source": [
                "# retriever_items = await retriever.retrieve(\n",
                "#     collection_name=collection_name,\n",
                "#     query=query,\n",
                "# )\n",
                "\n",
                "# pprint(retriever_items)"
            ]
        },
        {
            "cell_type": "code",
            "execution_count": null,
            "id": "aaa6e9b1",
            "metadata": {},
            "outputs": [],
            "source": []
        }
    ],
    "metadata": {
        "kernelspec": {
            "display_name": "Python 3",
            "language": "python",
            "name": "python3"
        },
        "language_info": {
            "codemirror_mode": {
                "name": "ipython",
                "version": 3
            },
            "file_extension": ".py",
            "mimetype": "text/x-python",
            "name": "python",
            "nbconvert_exporter": "python",
            "pygments_lexer": "ipython3",
            "version": "3.12.3"
        }
    },
    "nbformat": 4,
    "nbformat_minor": 5
}
