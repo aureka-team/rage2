{
 "cells": [
  {
   "cell_type": "code",
   "execution_count": null,
   "id": "f30967ca",
   "metadata": {},
   "outputs": [],
   "source": [
    "from rich.pretty import pprint\n",
    "\n",
    "from rage.loaders import PDFLoaeder\n",
    "from rage.splitters import SimpleTextSplitter\n",
    "from rage.vectore_store import VectoreStore"
   ]
  },
  {
   "cell_type": "code",
   "execution_count": null,
   "id": "ce08f5ef",
   "metadata": {},
   "outputs": [],
   "source": [
    "loader = PDFLoaeder()\n",
    "splitter = SimpleTextSplitter()\n",
    "vector_store = VectoreStore()"
   ]
  },
  {
   "cell_type": "code",
   "execution_count": null,
   "id": "a4c24895",
   "metadata": {},
   "outputs": [],
   "source": [
    "file_path = \"/resources/pdfs/asi-hablo-zaratustra.pdf\"\n",
    "documents = loader.load(source_path=file_path)\n",
    "pprint(documents[0])"
   ]
  },
  {
   "cell_type": "code",
   "execution_count": null,
   "id": "9e1b4326",
   "metadata": {},
   "outputs": [],
   "source": [
    "text_chunks = splitter.split_documents(documents=documents)\n",
    "\n",
    "print(f\"text_chunks => {len(text_chunks)}\")\n",
    "pprint(text_chunks[:5])"
   ]
  },
  {
   "cell_type": "code",
   "execution_count": null,
   "id": "05d32e10",
   "metadata": {},
   "outputs": [],
   "source": [
    "collection_name = \"test\"\n",
    "vector_store.create_collection(collection_name=collection_name)"
   ]
  },
  {
   "cell_type": "code",
   "execution_count": null,
   "id": "6a14c44f",
   "metadata": {},
   "outputs": [],
   "source": [
    "vector_store.insert_text_chunks(\n",
    "    collection_name=collection_name,\n",
    "    text_chunks=text_chunks,\n",
    ")"
   ]
  },
  {
   "cell_type": "code",
   "execution_count": null,
   "id": "1b3b0505",
   "metadata": {},
   "outputs": [],
   "source": [
    "await vector_store.search(\n",
    "    collection_name=collection_name,\n",
    "    query=\"Matar al Dragón\",\n",
    ")"
   ]
  }
 ],
 "metadata": {
  "kernelspec": {
   "display_name": "Python 3",
   "language": "python",
   "name": "python3"
  },
  "language_info": {
   "codemirror_mode": {
    "name": "ipython",
    "version": 3
   },
   "file_extension": ".py",
   "mimetype": "text/x-python",
   "name": "python",
   "nbconvert_exporter": "python",
   "pygments_lexer": "ipython3",
   "version": "3.12.3"
  }
 },
 "nbformat": 4,
 "nbformat_minor": 5
}
